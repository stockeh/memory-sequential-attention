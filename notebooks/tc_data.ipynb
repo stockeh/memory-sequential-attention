{
 "cells": [
  {
   "cell_type": "code",
   "execution_count": 2,
   "id": "c993ffcf",
   "metadata": {
    "ExecuteTime": {
     "end_time": "2023-01-04T18:15:40.957042Z",
     "start_time": "2023-01-04T18:15:40.362164Z"
    }
   },
   "outputs": [],
   "source": [
    "import os\n",
    "import copy\n",
    "\n",
    "import PIL.Image\n",
    "import pandas as pd\n",
    "import numpy as np\n",
    "import concurrent.futures\n",
    "import matplotlib.pyplot as plt"
   ]
  },
  {
   "cell_type": "code",
   "execution_count": 12,
   "id": "5e997687",
   "metadata": {
    "ExecuteTime": {
     "end_time": "2023-01-04T18:42:28.907470Z",
     "start_time": "2023-01-04T18:42:28.862144Z"
    }
   },
   "outputs": [
    {
     "data": {
      "text/plain": [
       "<matplotlib.image.AxesImage at 0x7ff8426c01f0>"
      ]
     },
     "execution_count": 12,
     "metadata": {},
     "output_type": "execute_result"
    },
    {
     "data": {
      "image/png": "[encoded data removed]",
      "text/plain": [
       "<Figure size 432x288 with 1 Axes>"
      ]
     },
     "metadata": {
      "needs_background": "light"
     },
     "output_type": "display_data"
    }
   ],
   "source": [
    "def _get_positional_encoding(g, n_hiddens):\n",
    "        pe = np.zeros((g, n_hiddens))\n",
    "        for pos in range(g):\n",
    "            for i in range(0, n_hiddens, 2):\n",
    "                demon = 3 ** ((2 * i) / n_hiddens)\n",
    "                pe[pos, i] = np.sin(pos / demon)\n",
    "                pe[pos, i + 1] = np.cos(pos / demon)\n",
    "        return pe\n",
    "    \n",
    "pe = _get_positional_encoding(10, 128)\n",
    "\n",
    "plt.imshow(pe)"
   ]
  },
  {
   "cell_type": "code",
   "execution_count": 3,
   "id": "70de8d45",
   "metadata": {
    "ExecuteTime": {
     "end_time": "2023-01-04T18:15:40.959800Z",
     "start_time": "2023-01-04T18:15:40.958347Z"
    }
   },
   "outputs": [],
   "source": [
    "W, H = 128, 128  # global width and height for image resolution\n",
    "VOL = '/s/chopin/l/grad/stock/nvme/data/ai2es/mlhub/nasa_tc'"
   ]
  },
  {
   "cell_type": "code",
   "execution_count": 4,
   "id": "b6fe9a4a",
   "metadata": {
    "ExecuteTime": {
     "end_time": "2023-01-04T18:15:40.968782Z",
     "start_time": "2023-01-04T18:15:40.960558Z"
    }
   },
   "outputs": [],
   "source": [
    "def partition_data_by_storm(train_df, test_df, train_fraction=0.8, seed=1):\n",
    "    storms = train_df.storm_id.unique()\n",
    "    n_storms = len(storms)\n",
    "    train_frac = int(n_storms * train_fraction)\n",
    "    inds = np.arange(n_storms)\n",
    "\n",
    "    np.random.seed(seed)\n",
    "    np.random.shuffle(inds)\n",
    "\n",
    "    train_storm_ids = storms[inds[:train_frac]]\n",
    "    val_storm_ids = storms[inds[train_frac:]]\n",
    "\n",
    "    train = train_df.loc[train_df.storm_id.isin(\n",
    "        train_storm_ids)].reset_index(drop=True)\n",
    "    val = train_df.loc[train_df.storm_id.isin(\n",
    "        val_storm_ids)].reset_index(drop=True)\n",
    "\n",
    "    return train, val, test_df\n",
    "\n",
    "def read_images(files, threads=12):\n",
    "    \"\"\"Read images by filenames to a numpy array\n",
    "\n",
    "    N = number of images\n",
    "    W = width of images\n",
    "    H = height of images\n",
    "    C = number of channels \n",
    "\n",
    "    :param files: list of files to read\n",
    "    :param threads: number of threads to use for reading\n",
    "    :return: images: (N,W,H,C) numpy array of images\n",
    "    \"\"\"\n",
    "    def _reading_thread(files, n_images, section):\n",
    "        \"\"\"Helper function for reading in different threads\"\"\"\n",
    "        for i, f in enumerate(files[section:section+n_images]):\n",
    "            with PIL.Image.open(f).convert('L') as im:\n",
    "                # convert from 366 x 366 to ...\n",
    "                images[i + section] = np.expand_dims(im.resize((W, H)), axis=0) / 255.\n",
    "\n",
    "    images = np.zeros((len(files), 1, W, H))\n",
    "    n_images = len(files) // threads\n",
    "\n",
    "    with concurrent.futures.ThreadPoolExecutor(max_workers=threads) as executor:\n",
    "        for section in [n_images * i for i in range(threads + 1)]:\n",
    "            executor.submit(_reading_thread, files, n_images, section)\n",
    "\n",
    "    return images\n",
    "\n",
    "\n",
    "def load_data(train, val, test):\n",
    "    \"\"\"Convert DataFrame to numpy array for training, \n",
    "    validation, and test datasets\n",
    "\n",
    "    F = number of target output features\n",
    "\n",
    "    :param train: _training_ df with file_name and wind_speed variables \n",
    "    :param val: _validation_ df with file_name and wind_speed variables \n",
    "    :param test: _test_ df with file_name and wind_speed variables \n",
    "    :return: X_: (N,W,H,C) numpy array of _ images\n",
    "    :return: T_: (N,F) numpy array of _ targets\n",
    "    \"\"\"\n",
    "    Xtrain = read_images(train.file_name.values)\n",
    "    Ttrain = train.wind_speed.values.reshape(-1, 1)\n",
    "\n",
    "    Xval = read_images(val.file_name.values)\n",
    "    Tval = val.wind_speed.values.reshape(-1, 1)\n",
    "\n",
    "    Xtest = read_images(test.file_name.values)\n",
    "    Ttest = test.wind_speed.values.reshape(-1, 1)\n",
    "\n",
    "    return Xtrain, Ttrain, Xval, Tval, Xtest, Ttest"
   ]
  },
  {
   "cell_type": "code",
   "execution_count": 5,
   "id": "bd6f8fc3",
   "metadata": {
    "ExecuteTime": {
     "end_time": "2023-01-04T18:15:41.139985Z",
     "start_time": "2023-01-04T18:15:40.969849Z"
    }
   },
   "outputs": [],
   "source": [
    "train_df = pd.read_csv(os.path.join(VOL, 'train_metadata.csv'))\n",
    "test_df = pd.read_csv(os.path.join(VOL, 'test_metadata.csv'))\n",
    "train, val, test = partition_data_by_storm(train_df, test_df, train_fraction=0.8, seed=1)"
   ]
  },
  {
   "cell_type": "code",
   "execution_count": 6,
   "id": "10d0a424",
   "metadata": {
    "ExecuteTime": {
     "end_time": "2023-01-04T18:15:41.426843Z",
     "start_time": "2023-01-04T18:15:41.422289Z"
    }
   },
   "outputs": [
    {
     "data": {
      "text/plain": [
       "((56664, 8), (13593, 8), (44377, 8))"
      ]
     },
     "execution_count": 6,
     "metadata": {},
     "output_type": "execute_result"
    }
   ],
   "source": [
    "train.shape, val.shape, test.shape"
   ]
  },
  {
   "cell_type": "code",
   "execution_count": 7,
   "id": "0e60ab22",
   "metadata": {
    "ExecuteTime": {
     "end_time": "2023-01-04T18:16:23.205969Z",
     "start_time": "2023-01-04T18:15:41.949845Z"
    }
   },
   "outputs": [],
   "source": [
    "Xtrain, Ttrain, Xval, Tval, Xtest, Ttest = load_data(train, val, test)"
   ]
  },
  {
   "cell_type": "code",
   "execution_count": 8,
   "id": "fcb43fe2",
   "metadata": {
    "ExecuteTime": {
     "end_time": "2023-01-04T18:16:23.209627Z",
     "start_time": "2023-01-04T18:16:23.207196Z"
    }
   },
   "outputs": [],
   "source": [
    "def categorize(targets):\n",
    "    \"\"\"\n",
    "    Saffir-Simpson Hurricane Wind Scale\n",
    "    1: 64-82 kt\n",
    "    2: 83-95 kt\n",
    "    3: 96-112 kt\n",
    "    4: 113-136 kt\n",
    "    5: 137 kt or higher\n",
    "    \"\"\"\n",
    "    T = copy.deepcopy(targets)\n",
    "#     T[T < 50] = -1\n",
    "#     T[(T >= 50) & (T <= 63)] = 0\n",
    "#     T[(T >= 64) & (T <= 82)] = 1\n",
    "#     T[(T >= 83) & (T <= 95)] = 2\n",
    "#     T[(T >= 96) & (T <= 112)] = 3\n",
    "#     T[(T >= 113) & (T <= 136)] = 4\n",
    "#     T[T >= 137] = 5\n",
    "    T[T < 50] = -1\n",
    "    T[(T >= 50) & (T <= 63)] = 0\n",
    "    T[(T >= 64) & (T <= 95)] = 1\n",
    "    T[T > 95] = 3\n",
    "    return T"
   ]
  },
  {
   "cell_type": "code",
   "execution_count": 9,
   "id": "ab07ed0f",
   "metadata": {
    "ExecuteTime": {
     "end_time": "2023-01-04T18:16:23.836054Z",
     "start_time": "2023-01-04T18:16:23.210336Z"
    }
   },
   "outputs": [],
   "source": [
    "Ttrain = categorize(Ttrain)\n",
    "inds = np.where(Ttrain == -1)\n",
    "Xtrain = np.delete(Xtrain, inds, 0)\n",
    "Ttrain = np.delete(Ttrain, inds, 0).astype(int)\n",
    "\n",
    "Tval = categorize(Tval)\n",
    "inds = np.where(Tval == -1)\n",
    "Xval = np.delete(Xval, inds, 0)\n",
    "Tval = np.delete(Tval, inds, 0).astype(int)\n",
    "\n",
    "Ttest = categorize(Ttest)\n",
    "inds = np.where(Ttest == -1)\n",
    "Xtest = np.delete(Xtest, inds, 0)\n",
    "Ttest = np.delete(Ttest, inds, 0).astype(int)"
   ]
  },
  {
   "cell_type": "code",
   "execution_count": 10,
   "id": "6792ca9e",
   "metadata": {
    "ExecuteTime": {
     "end_time": "2023-01-04T18:16:23.839592Z",
     "start_time": "2023-01-04T18:16:23.837123Z"
    }
   },
   "outputs": [
    {
     "data": {
      "text/plain": [
       "((22263, 1, 128, 128),\n",
       " (22263, 1),\n",
       " (5719, 1, 128, 128),\n",
       " (5719, 1),\n",
       " (15180, 1, 128, 128),\n",
       " (15180, 1))"
      ]
     },
     "execution_count": 10,
     "metadata": {},
     "output_type": "execute_result"
    }
   ],
   "source": [
    "Xtrain.shape, Ttrain.shape, Xval.shape, Tval.shape, Xtest.shape, Ttest.shape"
   ]
  },
  {
   "cell_type": "code",
   "execution_count": 11,
   "id": "d31c42a1",
   "metadata": {
    "ExecuteTime": {
     "end_time": "2023-01-04T18:16:24.069461Z",
     "start_time": "2023-01-04T18:16:23.840315Z"
    }
   },
   "outputs": [
    {
     "data": {
      "image/png": "[encoded data removed]",
      "text/plain": [
       "<Figure size 648x216 with 3 Axes>"
      ]
     },
     "metadata": {
      "needs_background": "light"
     },
     "output_type": "display_data"
    }
   ],
   "source": [
    "fig, axs = plt.subplots(1,3, figsize=(9,3))\n",
    "axs[0].hist(Ttrain, density=True, stacked=True, bins=30)\n",
    "axs[1].hist(Tval, density=True, stacked=True, bins=30)\n",
    "axs[2].hist(Ttest, density=True, stacked=True, bins=30);\n",
    "\n",
    "fig.tight_layout()"
   ]
  },
  {
   "cell_type": "code",
   "execution_count": null,
   "id": "7a7ae7b8",
   "metadata": {},
   "outputs": [],
   "source": []
  }
 ],
 "metadata": {
  "kernelspec": {
   "display_name": "Python 3 (ipykernel)",
   "language": "python",
   "name": "python3"
  },
  "language_info": {
   "codemirror_mode": {
    "name": "ipython",
    "version": 3
   },
   "file_extension": ".py",
   "mimetype": "text/x-python",
   "name": "python",
   "nbconvert_exporter": "python",
   "pygments_lexer": "ipython3",
   "version": "3.8.10"
  }
 },
 "nbformat": 4,
 "nbformat_minor": 5
}
